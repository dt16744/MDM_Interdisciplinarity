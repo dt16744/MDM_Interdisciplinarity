{
 "cells": [
  {
   "cell_type": "code",
   "execution_count": 1,
   "metadata": {},
   "outputs": [],
   "source": [
    "\"Importing useful modules\"\n",
    "import pandas\n",
    "import numpy as np\n",
    "import matplotlib.pyplot as plt"
   ]
  },
  {
   "cell_type": "code",
   "execution_count": 2,
   "metadata": {},
   "outputs": [],
   "source": [
    "#Articles = pandas.read_csv('articles.csv')\n",
    "Journals = pandas.read_csv('journals.csv', engine='python')\n",
    "Articles = pandas.read_csv('articles.csv', engine='python')"
   ]
  },
  {
   "cell_type": "code",
   "execution_count": 3,
   "metadata": {
    "scrolled": true
   },
   "outputs": [],
   "source": [
    "\"Making a list of all unique journal names and their ISSN numbers from the journals.csv file\"\n",
    "Journal_Name = Journals[\"Title\"]\n",
    "ISSN = Journals[\"Print-ISSN\"]\n",
    "CiteScore = Journals[\"CiteScore\"]\n",
    "\n",
    "length = len(Journal_Name)\n",
    "Journal_Dict = {}\n",
    "Journ_Succ = {}"
   ]
  },
  {
   "cell_type": "code",
   "execution_count": 4,
   "metadata": {},
   "outputs": [],
   "source": [
    "for i in range(length):\n",
    "    rank = CiteScore[i]\n",
    "    \n",
    "    if i == length-1:\n",
    "        Journal_Dict[ISSN[i]] = Journal_Name[i]\n",
    "        Journ_Succ[ISSN[i]] = rank\n",
    "    elif Journal_Name[i] == Journal_Name[i+1]:\n",
    "        continue\n",
    "    else:\n",
    "        Journal_Dict[ISSN[i]] = Journal_Name[i]\n",
    "        Journ_Succ[ISSN[i]] = rank\n",
    "    "
   ]
  },
  {
   "cell_type": "markdown",
   "metadata": {},
   "source": [
    "# Parsing articles.csv"
   ]
  },
  {
   "cell_type": "code",
   "execution_count": 5,
   "metadata": {},
   "outputs": [],
   "source": [
    "Title = Articles[\"Title\"] #list of Article titles\n",
    "Art_ISSN = Articles[\"ISSN\"] #list of corresponding ISSN numbers for the articles\n",
    "Art_Success = []"
   ]
  },
  {
   "cell_type": "code",
   "execution_count": 6,
   "metadata": {},
   "outputs": [],
   "source": [
    "Cite = Articles[\"Cited by\"]\n",
    "Year = Articles[\"Year\"]"
   ]
  },
  {
   "cell_type": "code",
   "execution_count": 7,
   "metadata": {},
   "outputs": [],
   "source": [
    "NumA = len(Title)\n",
    "CurrentYear = 2019\n",
    "weight = 0.5\n",
    "for a in range(NumA):\n",
    "    try:\n",
    "        ID = Art_ISSN[a]\n",
    "        J_Succ = Journ_Succ[ID]\n",
    "    except:\n",
    "        Art_Success.append('Journal Not Found')\n",
    "        continue\n",
    "    \n",
    "    Succ = (float(Cite[a])*weight)/(CurrentYear-float(Year[a]))\n",
    "    Art_Success.append(Succ + J_Succ)\n",
    "    \n"
   ]
  },
  {
   "cell_type": "code",
   "execution_count": 8,
   "metadata": {},
   "outputs": [],
   "source": [
    "import csv\n",
    "filename = 'Article_Success.csv'"
   ]
  },
  {
   "cell_type": "code",
   "execution_count": 9,
   "metadata": {},
   "outputs": [],
   "source": [
    "NumA = len(Title)\n",
    "\n",
    "with open(filename, mode='w') as f:\n",
    "    fieldnames = ['Title','Success']\n",
    "    writer = csv.writer(f, delimiter=',')\n",
    "    writer.writerow(fieldnames)\n",
    "    for n in range(NumA):\n",
    "        List = [Title[n],Art_Success[n]]\n",
    "        try:\n",
    "            writer.writerow(List)\n",
    "        except:\n",
    "            continue\n",
    "        \n",
    "        \n"
   ]
  },
  {
   "cell_type": "code",
   "execution_count": null,
   "metadata": {},
   "outputs": [],
   "source": []
  }
 ],
 "metadata": {
  "kernelspec": {
   "display_name": "Python 3",
   "language": "python",
   "name": "python3"
  },
  "language_info": {
   "codemirror_mode": {
    "name": "ipython",
    "version": 3
   },
   "file_extension": ".py",
   "mimetype": "text/x-python",
   "name": "python",
   "nbconvert_exporter": "python",
   "pygments_lexer": "ipython3",
   "version": "3.6.5"
  }
 },
 "nbformat": 4,
 "nbformat_minor": 2
}
