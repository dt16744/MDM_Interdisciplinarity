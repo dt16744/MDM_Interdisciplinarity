{
 "cells": [
  {
   "cell_type": "markdown",
   "metadata": {},
   "source": [
    "# MDM 3 Project 2 - Interdisciplinarity"
   ]
  },
  {
   "cell_type": "markdown",
   "metadata": {},
   "source": [
    "\"\"\"\n",
    "Author(s) - Mike Talbot\n",
    "Date Created - 08/12/18\n",
    "Date Last Modified - 08/12/18\n",
    "GitRepo - https://github.com/miketalbotbox/MDM_Interdisciplinarity\n",
    "\n",
    "\n",
    "\n",
    "Utility:\n",
    "Code created to pull 'Authors_ID' from the supplied articles.csv file in order\n",
    "to assign connections between authors and be able to compare who works with who.\n",
    "\n",
    "Features:\n",
    "Ability to pull 'Authours_ID' from File\n",
    "Recreates a 2D array containing every Author for each Article\n",
    "Creates a list of each separate Author. {Currently a reduced list due to the\n",
    "high volume of data, not a complaint, the more the merrier but I want my laptop\n",
    "to not hate me ;P }\n",
    "Creates a connectivity matrix based on who has worked on what article, only\n",
    "tested on small data sets so far (Controlled by the variable \"Article_Limit\")\n",
    "Creates a network of all the authors and who they've worked with, however data\n",
    "is so sparse it can be hard to read any connections between articles.\n",
    "\n",
    "Note:\n",
    "Please feel free to adapt and change code, just make notes if you are changing\n",
    "any purposes and wack on any credits you want ;P\n",
    "\"\"\""
   ]
  },
  {
   "cell_type": "markdown",
   "metadata": {},
   "source": [
    "\"\"\"\n",
    "EDITS LOG:\n",
    "\n",
    "08/12/18: Created file to read the articles.csv file and take out the authors_id allowing us to create a large connectivity matrix\n",
    "Altered the code from mat=king a matrix of connectivity to producing a list of\n",
    "all connections, i.e. (a,b) means there is a link from a to b. This is so that data can be parsed into networkx to attempt to produce pretty networks\n",
    "\n",
    "\"\"\""
   ]
  },
  {
   "cell_type": "markdown",
   "metadata": {},
   "source": [
    "\"\"\"\n",
    "TODO LOG:\n",
    "(More just an ideas place, throw anything in here)\n",
    "\n",
    "Make a network pretty - ✓\n",
    "Make unefficeint code efficient!\n",
    "Make journals.csv work\n",
    "\n",
    "\"\"\""
   ]
  },
  {
   "cell_type": "code",
   "execution_count": 12,
   "metadata": {},
   "outputs": [],
   "source": [
    "\"\"\"\n",
    "Cool fresh imports all the way from the internets to make the magic happen!\n",
    "\"\"\"\n",
    "import pandas\n",
    "import numpy as np\n",
    "import networkx as nx\n",
    "import matplotlib.pyplot as plt"
   ]
  },
  {
   "cell_type": "code",
   "execution_count": 5,
   "metadata": {},
   "outputs": [],
   "source": [
    "\"\"\"\n",
    "Practising how pandas are useful in extracting data, currently (as of 08/12/18)\n",
    "errors in reading Journals.csv due to a parsing error\n",
    "\n",
    "TOP TIPS:\n",
    "x.head() shows the top 5 rows in a dataset\n",
    "x.tail() shows the bottom 5 rows in a dataset\n",
    "^^^^ both of these are produced in a real nice way to see the data!\n",
    "x[\"TITLE_NAME\"] extracts that columns data with their respective index\n",
    "\"\"\"\n",
    "\n",
    "#Authors = pandas.read_csv('authors.csv')\n",
    "Articles = pandas.read_csv('articles.csv')\n",
    "#Journals = pandas.read_csv('journals.csv')\n",
    "#Authors.head()\n",
    "#Authors.tail()\n",
    "#Journals.head()\n",
    "#Articles.head()\n",
    "\n",
    "\"\"\"\n",
    "Code to take out the authors ID from the input data and separate out each author\n",
    "A check is made to remove and blanks spaces which can be contained from how the\n",
    "variables were stored within their .csv files.\n",
    "\"\"\"\n",
    "\n",
    "Articles_ID = Articles[\"Author(s) ID\"]\n",
    "Articles_ID_Sep = [x.split(';')for x in Articles_ID]\n",
    "for x in Articles_ID_Sep:\n",
    "    if '' in x:\n",
    "        x = x.remove('')\n",
    "        \n",
    "    \n",
    "#print(Articles_ID_Sep[0:5])\n",
    "#Articles_ID.head()"
   ]
  },
  {
   "cell_type": "code",
   "execution_count": 69,
   "metadata": {},
   "outputs": [
    {
     "name": "stdout",
     "output_type": "stream",
     "text": [
      "1463\n"
     ]
    },
    {
     "name": "stderr",
     "output_type": "stream",
     "text": [
      "C:\\Users\\micha\\Anaconda3\\envs\\myenv\\lib\\site-packages\\ipykernel_launcher.py:22: FutureWarning: elementwise comparison failed; returning scalar instead, but in the future will perform elementwise comparison\n"
     ]
    }
   ],
   "source": [
    "\"\"\"\n",
    "Code reducing the complex array formed above into a list of each independant\n",
    "author, hopefully helping to create a framework that will allow us to create\n",
    "a connetivity matrix :D\n",
    "A variable \"Article_Limit\" has been added to reduce the number of data sets the\n",
    "code is running with for a faster prototyping phase\n",
    "Another limit has been added, 'Max_Authors', this is due to an article having \n",
    "over 800 authors apparently. This value drowns out all the information we can \n",
    "see so this variable is here to dampen it.\n",
    "NOTE:\n",
    "A warning message does appear in this section, quote:\n",
    "\"FutureWarning: elementwise comparison failed; returning scalar instead, but in\n",
    "the future will perform elementwise comparison\"\n",
    "No issues have been caused so far, but just so you are warned :)\n",
    "\"\"\"\n",
    "Article_Limit = 20\n",
    "Max_Authors = 50\n",
    "Total_Authors = np.array([])\n",
    "for Author_List in Articles_ID_Sep[0:Article_Limit]:\n",
    "    if len(Author_List) <= Max_Authors:\n",
    "        for author in Author_List:\n",
    "            if author not in Total_Authors:\n",
    "                Total_Authors = np.append(Total_Authors,author)\n",
    "#print(Total_Authors)\n",
    "Number_Of_Authors = len(Total_Authors)\n",
    "print(Number_Of_Authors)"
   ]
  },
  {
   "cell_type": "code",
   "execution_count": 70,
   "metadata": {},
   "outputs": [],
   "source": [
    "\"\"\"\n",
    "In theory this section will atttempt to make a NxN matrix, where N is the number\n",
    "of independant authors. The values in said matrix are the number of times each\n",
    "researcher has worked with each other.\n",
    "This method is far from efficient and I would very much apprecciate any advice on\n",
    "how to speed things up, but it is a working method. Like with three nested for\n",
    "loops like damn thats a lot of looping.\n",
    "'List_of_Connections' is used in the next block, however it was easy to \n",
    "implement here.\n",
    "\"\"\"\n",
    "\n",
    "Connectivity = np.zeros((Number_Of_Authors,Number_Of_Authors)) #An NxN Matrix\n",
    "List_of_Connections = [] # a Mx2 array in for [[a,b],[a,c]] as in to mean a is connected to b and c\n",
    "for Article_Authors in Articles_ID_Sep[0:Article_Limit]:\n",
    "    if len(Author_List) <= Max_Authors:\n",
    "        for Original_Author in Total_Authors:\n",
    "            for Compared_Author in Total_Authors:\n",
    "                if Compared_Author != Original_Author:\n",
    "                    if (Compared_Author in Article_Authors \\\n",
    "                    and Original_Author in Article_Authors):\n",
    "                        O = np.where(Total_Authors == Original_Author)\n",
    "                        C = np.where(Total_Authors == Compared_Author)\n",
    "                        Connectivity[O,C] += 1\n",
    "                        List_of_Connections.append((Original_Author, Compared_Author))\n",
    "                    \n",
    "#print(Connectivity)                        "
   ]
  },
  {
   "cell_type": "code",
   "execution_count": 71,
   "metadata": {},
   "outputs": [
    {
     "data": {
      "image/png": "[encoded data removed]",
      "text/plain": [
       "<Figure size 432x288 with 1 Axes>"
      ]
     },
     "metadata": {},
     "output_type": "display_data"
    }
   ],
   "source": [
    "\"\"\"\n",
    "Using the networkx package to allow a visual representation of the clusters.\n",
    "This requires a modification to the previous part which includes the \n",
    "'List_of_Connections' which is a format that networkx prefers\n",
    "Using matplotlib to plot the graphs allows a visual representation that clearly\n",
    "shows each group of authors for each articles and any connections within\n",
    "\n",
    "\n",
    "Note:\n",
    "future thing that could be handy:\n",
    "nx.connected_components(G)\n",
    "shows what connected graphs there are, i.e. if there are two articles with no \n",
    "crossover of authors it'd produce two lists, however if one author contributed\n",
    "to two articles then one large list would be made.\n",
    "\"\"\"\n",
    "Connection_Graph = nx.Graph()\n",
    "Connection_Graph.add_nodes_from(Total_Authors)\n",
    "Connection_Graph.add_edges_from(List_of_Connections)\n",
    "nx.draw(Connection_Graph, node_size=2)\n",
    "\n",
    "plt.show()"
   ]
  },
  {
   "cell_type": "code",
   "execution_count": 72,
   "metadata": {},
   "outputs": [
    {
     "data": {
      "image/png": "[encoded data removed]",
      "text/plain": [
       "<Figure size 432x288 with 2 Axes>"
      ]
     },
     "metadata": {},
     "output_type": "display_data"
    }
   ],
   "source": [
    "\"\"\"\n",
    "Looking at the degree sequence for the above graph, the idea of this is to\n",
    "check if there are degrees of an order higher than one so that we can find \n",
    "researchers who have collaborated with multiple sets of researchers\n",
    "\n",
    "Note:\n",
    "Idea of plotting this was taken from link here: (it looked cool so why not)\n",
    "https://networkx.github.io/documentation/stable/auto_examples/drawing/plot_degree_histogram.html\n",
    "\"\"\"\n",
    "import collections\n",
    "Degree_Sequence = sorted([d for n, d in Connection_Graph.degree], reverse = True)\n",
    "#print(Degree_Sequence)\n",
    "Degree_Count = collections.Counter(Degree_Sequence)\n",
    "\n",
    "Degree, Count = zip(*Degree_Count.items())\n",
    "fig, ax = plt.subplots()\n",
    "plt.bar(Degree,Count,width=0.8,color='b')\n",
    "\n",
    "plt.title(\"Degrees of Connections\")\n",
    "plt.ylabel(\"Count\")\n",
    "plt.xlabel(\"Degree\")\n",
    "\n",
    "ax.set_xticks([d + 0.4 for d in Degree])\n",
    "ax.set_xticklabels(Degree)\n",
    "\n",
    "plt.axes([0.4,0.4,0.5,0.5])\n",
    "nx.draw(Connection_Graph, node_size = 20)\n",
    "\n",
    "plt.show()"
   ]
  }
 ],
 "metadata": {
  "kernelspec": {
   "display_name": "Python 3",
   "language": "python",
   "name": "python3"
  },
  "language_info": {
   "codemirror_mode": {
    "name": "ipython",
    "version": 3
   },
   "file_extension": ".py",
   "mimetype": "text/x-python",
   "name": "python",
   "nbconvert_exporter": "python",
   "pygments_lexer": "ipython3",
   "version": "3.7.0"
  }
 },
 "nbformat": 4,
 "nbformat_minor": 2
}
