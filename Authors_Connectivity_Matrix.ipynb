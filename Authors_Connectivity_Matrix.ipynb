{
 "cells": [
  {
   "cell_type": "markdown",
   "metadata": {},
   "source": [
    "# MDM 3 Project 2 - Interdisciplinarity"
   ]
  },
  {
   "cell_type": "code",
   "execution_count": null,
   "metadata": {},
   "outputs": [],
   "source": [
    "\"\"\"\n",
    "Author(s) - Mike Talbot\n",
    "Date Created - 08/12/18\n",
    "Date Modified - 08/12/18\n",
    "\n",
    "Utility:\n",
    "Code created to pull 'Authors_ID' from the supplied articles.csv file in order\n",
    "to assign connections between authors and be able to compare who works with who.\n",
    "\n",
    "Features:\n",
    "Ability to pull 'Authours_ID' from File\n",
    "Recreates a 2D array containing every Author for each Article\n",
    "Creates a list of each separate Author. {Currently a reduced list due to the\n",
    "high volume of data, not a complaint, the more the merrier but I want my laptop\n",
    "to not hate me ;P }\n",
    "Creates a connectivity matrix based on who has worked on what article, only\n",
    "tested on small data sets so far (Controlled by the variable \"Article_Limit\")\n",
    "\n",
    "Note:\n",
    "Please feel free to adapt and change code, just make notes if you are changing\n",
    "any purposes and wack on any credits you want ;P\n",
    "\"\"\""
   ]
  },
  {
   "cell_type": "code",
   "execution_count": null,
   "metadata": {},
   "outputs": [],
   "source": [
    "\"\"\"\n",
    "EDITS LOG:\n",
    "\n",
    "08/12/18: Created file to read the articles.csv file and take out the authors_id \n",
    "allowing us to create a large connectivity matrix\n",
    "\n",
    "\"\"\""
   ]
  },
  {
   "cell_type": "code",
   "execution_count": null,
   "metadata": {},
   "outputs": [],
   "source": [
    "\"\"\"\n",
    "TODO LOG:\n",
    "(More just an ideas place)\n",
    "\n",
    "Make a network pretty\n",
    "Make unefficeint code efficient!\n",
    "Make journals.csv work\n",
    "\n",
    "\"\"\""
   ]
  },
  {
   "cell_type": "code",
   "execution_count": 1,
   "metadata": {},
   "outputs": [],
   "source": [
    "\"\"\"\n",
    "Cool fresh imports all the way from the internets to make the magic happen!\n",
    "\"\"\"\n",
    "import pandas\n",
    "import numpy as np"
   ]
  },
  {
   "cell_type": "code",
   "execution_count": 2,
   "metadata": {},
   "outputs": [],
   "source": [
    "\"\"\"\n",
    "Practising how pandas are useful in extracting data, currently (as of 08/12/18)\n",
    "errors in reading Journals.csv due to a parsing error\n",
    "\n",
    "TOP TIPS:\n",
    "x.head() shows the top 5 rows in a dataset\n",
    "x.tail() shows the bottom 5 rows in a dataset\n",
    "^^^^ both of these are produced in a real nice way to see the data!\n",
    "x[\"TITLE_NAME\"] extracts that columns data with their respective index\n",
    "\"\"\"\n",
    "\n",
    "#Authors = pandas.read_csv('authors.csv')\n",
    "Articles = pandas.read_csv('articles.csv')\n",
    "#Journals = pandas.read_csv('journals.csv')\n",
    "#Authors.head()\n",
    "#Authors.tail()\n",
    "#Journals.head()\n",
    "#Articles.head()\n",
    "\n",
    "\"\"\"\n",
    "Code to take out the authors ID from the input data and separate out each author\n",
    "A check is made to remove and blanks spaces which can be contained from how the\n",
    "variables were stored within their .csv files.\n",
    "\"\"\"\n",
    "\n",
    "Articles_ID = Articles[\"Author(s) ID\"]\n",
    "Articles_ID_Sep = [x.split(';')for x in Articles_ID]\n",
    "for x in Articles_ID_Sep:\n",
    "    if '' in x:\n",
    "        x = x.remove('')\n",
    "        \n",
    "    \n",
    "#print(Articles_ID_Sep[0:5])\n",
    "#Articles_ID.head()"
   ]
  },
  {
   "cell_type": "code",
   "execution_count": 3,
   "metadata": {},
   "outputs": [
    {
     "name": "stderr",
     "output_type": "stream",
     "text": [
      "C:\\Users\\micha\\Anaconda3\\envs\\myenv\\lib\\site-packages\\ipykernel_launcher.py:19: FutureWarning: elementwise comparison failed; returning scalar instead, but in the future will perform elementwise comparison\n"
     ]
    }
   ],
   "source": [
    "\"\"\"\n",
    "Code reducing the complex array formed above into a list of each independant\n",
    "author, hopefully helping to create a framework that will allow us to create\n",
    "a connetivity matrix :D\n",
    "A variable \"Article_Limit\" has been added to reduce the number of data sets the\n",
    "code is running with for a faster prototyping phase\n",
    "\n",
    "NOTE:\n",
    "A warning message does appear in this section, quote:\n",
    "\"FutureWarning: elementwise comparison failed; returning scalar instead, but in\n",
    "the future will perform elementwise comparison\"\n",
    "No issues have been caused so far, but just so you are warned :)\n",
    "\"\"\"\n",
    "Article_Limit = 10\n",
    "\n",
    "Total_Authors = np.array([])\n",
    "for Author_List in Articles_ID_Sep[0:Article_Limit]:\n",
    "    for author in Author_List:\n",
    "        if author not in Total_Authors:\n",
    "            Total_Authors = np.append(Total_Authors,author)\n",
    "#print(Total_Authors)"
   ]
  },
  {
   "cell_type": "code",
   "execution_count": 4,
   "metadata": {},
   "outputs": [
    {
     "name": "stdout",
     "output_type": "stream",
     "text": [
      "[[0. 1. 1. ... 0. 0. 0.]\n",
      " [1. 0. 1. ... 0. 0. 0.]\n",
      " [1. 1. 0. ... 0. 0. 0.]\n",
      " ...\n",
      " [0. 0. 0. ... 0. 1. 1.]\n",
      " [0. 0. 0. ... 1. 0. 1.]\n",
      " [0. 0. 0. ... 1. 1. 0.]]\n"
     ]
    }
   ],
   "source": [
    "\"\"\"\n",
    "In theory this section will atttempt to make a NxN matrix, where N is the number\n",
    "of independant authors. The values in said matrix are the number of times each\n",
    "researcher has worked with each other.\n",
    "This method is far from efficient and I would very much apprecciate any advice on\n",
    "how to speed things up, but it is a working method. Like with three nested for\n",
    "loops like damn thats a lot of looping.\n",
    "\"\"\"\n",
    "Number_Of_Authors = len(Total_Authors)\n",
    "Connectivity = np.zeros((Number_Of_Authors,Number_Of_Authors))\n",
    "\n",
    "for Article_Authors in Articles_ID_Sep[0:Article_Limit]:\n",
    "    for Original_Author in Total_Authors:\n",
    "        for Compared_Author in Total_Authors:\n",
    "            if Compared_Author != Original_Author:\n",
    "                if (Compared_Author in Article_Authors \\\n",
    "                and Original_Author in Article_Authors):\n",
    "                    O = np.where(Total_Authors == Original_Author)\n",
    "                    C = np.where(Total_Authors == Compared_Author)\n",
    "                    Connectivity[O,C] += 1\n",
    "#print(Connectivity)                        "
   ]
  },
  {
   "cell_type": "code",
   "execution_count": null,
   "metadata": {},
   "outputs": [],
   "source": []
  }
 ],
 "metadata": {
  "kernelspec": {
   "display_name": "Python 3",
   "language": "python",
   "name": "python3"
  },
  "language_info": {
   "codemirror_mode": {
    "name": "ipython",
    "version": 3
   },
   "file_extension": ".py",
   "mimetype": "text/x-python",
   "name": "python",
   "nbconvert_exporter": "python",
   "pygments_lexer": "ipython3",
   "version": "3.7.0"
  }
 },
 "nbformat": 4,
 "nbformat_minor": 2
}
