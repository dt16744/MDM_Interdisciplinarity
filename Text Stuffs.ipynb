{
 "cells": [
  {
   "cell_type": "markdown",
   "metadata": {},
   "source": [
    "# Doing stuff to text"
   ]
  },
  {
   "cell_type": "markdown",
   "metadata": {},
   "source": [
    "Author(s): Mike Talbot  \n",
    "Date Created: 12/12/18\n",
    "\n",
    "Written Stuff:  \n",
    "This is to test out the NLTK (Natural Language ToolKit)\n",
    "\n",
    "EDIT LOG:  \n",
    "12/12/18: Now it exists"
   ]
  },
  {
   "cell_type": "code",
   "execution_count": 55,
   "metadata": {},
   "outputs": [],
   "source": [
    "import io\n",
    "import pandas\n",
    "import nltk\n",
    "from nltk.corpus import stopwords\n",
    "from nltk.tokenize import word_tokenize\n",
    "#Do this once when you fisrt install :) \n",
    "#nltk.download('all')\n"
   ]
  },
  {
   "cell_type": "code",
   "execution_count": 57,
   "metadata": {},
   "outputs": [
    {
     "name": "stdout",
     "output_type": "stream",
     "text": [
      "['i', 'me', 'my', 'myself', 'we', 'our', 'ours', 'ourselves', 'you', \"you're\", \"you've\", \"you'll\", \"you'd\", 'your', 'yours', 'yourself', 'yourselves', 'he', 'him', 'his', 'himself', 'she', \"she's\", 'her', 'hers', 'herself', 'it', \"it's\", 'its', 'itself', 'they', 'them', 'their', 'theirs', 'themselves', 'what', 'which', 'who', 'whom', 'this', 'that', \"that'll\", 'these', 'those', 'am', 'is', 'are', 'was', 'were', 'be', 'been', 'being', 'have', 'has', 'had', 'having', 'do', 'does', 'did', 'doing', 'a', 'an', 'the', 'and', 'but', 'if', 'or', 'because', 'as', 'until', 'while', 'of', 'at', 'by', 'for', 'with', 'about', 'against', 'between', 'into', 'through', 'during', 'before', 'after', 'above', 'below', 'to', 'from', 'up', 'down', 'in', 'out', 'on', 'off', 'over', 'under', 'again', 'further', 'then', 'once', 'here', 'there', 'when', 'where', 'why', 'how', 'all', 'any', 'both', 'each', 'few', 'more', 'most', 'other', 'some', 'such', 'no', 'nor', 'not', 'only', 'own', 'same', 'so', 'than', 'too', 'very', 's', 't', 'can', 'will', 'just', 'don', \"don't\", 'should', \"should've\", 'now', 'd', 'll', 'm', 'o', 're', 've', 'y', 'ain', 'aren', \"aren't\", 'couldn', \"couldn't\", 'didn', \"didn't\", 'doesn', \"doesn't\", 'hadn', \"hadn't\", 'hasn', \"hasn't\", 'haven', \"haven't\", 'isn', \"isn't\", 'ma', 'mightn', \"mightn't\", 'mustn', \"mustn't\", 'needn', \"needn't\", 'shan', \"shan't\", 'shouldn', \"shouldn't\", 'wasn', \"wasn't\", 'weren', \"weren't\", 'won', \"won't\", 'wouldn', \"wouldn't\", 'chapter', 'author', 'paper', 'et', 'al', 'na', 'process', 'use', 'research', 'findings', 'available', 'one', 'provid', 'different', 'low', 'within', 'informa', 'measurements', 'based', 'technique', 'based', 'report', 'scienc', 'john', 'may', 'present', 'propos', 'on', 'method', 'work', 'measur', 'measurement', 'plus', 'plu', 'support', 'also', 'examin', 'project', 'develop', 'informat', 'differ', 'diff', 'compar', 'comparabl', 'observ', 'observat', 'observa', 'inform', 'abstract', 'avail', 'availabl', 'availab', 'availa', 'primary', 'prim', 'primar', 'group', 'effectiv', 'effect', 'effectivel', 'review', 'month', 'two', 'academ', '00a9', 'abl', 'ad', 'adjust', 'advanc', 'account', 'across', 'allow', 'alongsid', 'affect', 'although', 'anoth', 'area', 'around', 'articl', 'appear', 'befor', 'beyond', 'basic', 'best', 'bring', 'br', 'came', 'candid', 'central', 'claim', 'close', 'collabor', 'conlus', 'conclud', 'consid', 'consider', 'critic', 'critiqu', 'demonstr', 'discuss', 'draw', 'drawn', 'elsevi', 'ensur', 'enter', 'exampl', 'exclud', 'explain', 'explan', 'explor', 'factor', 'figur', 'found', 'focus upon', 'four', 'fundament', 'furthermor', 'futur', 'good', 'get', 'given', 'grant', 'great', 'greater', 'half', 'held', 'idea', 'ident', 'identif', 'identifi', 'ie', 'eg', 'immedi', 'item', 'iv', 'lack', 'layer', 'like', 'main', 'major', 'match', 'meet', 'much', 'must', 'outcom', 'otherwis', 'overal', 'part', 'peter', 'previous', 'problem', 'publish', 'purpos', 'promis', 'reason', 'recent', 'requir', 'secondari', 'see', 'seek', 'share', 'seem', 'seen', 'small', 'slow', 'smaller', 'start', 'step', 'subject', 'studi', 'still', 'solut', 'sometim', 'someon', 'ten', 'take', 'text', 'test', 'thing', 'therefor', 'think', 'throughout', 'thus', 'tend', 'thousand', 'three', 'top', 'total', 'toward', 'ultim', 'variat', 'want', 'way', 'wherea', 'whethher', 'whilst', 'whole', 'whose', 'wide', 'widespread', 'would', 'year', 'yet', 'accept', 'analyz', 'aspect', 'abov', 'almost', 'alon', 'along', 'asign', 'assist', 'bias', 'better', 'clear', 'certain', 'come', 'abrupt', 'whenev', 'wherebi', 'welcom', 'valid', 'urgent', 'urgenc', 'upon', 'upper', 'TRUE', 'truli', 'trend', 'sustain', 'sure', 'strict', 'stay', 'say', 'control', 'increas', 'increased', 'bas', 'show', 'setup', 'usual', 'term', 'sampl', 'reliabl', 'resolv', 'represent', 'result', 'pos', 'pose', 'data', 'experiment', 'experi', 'background', 'easily', 'easil', 'reserv', 'degree', 'nm', 'c', 'function', 'positiv', 'tim', 'time', 'func', 'funct', 'vs', 'includ']\n"
     ]
    }
   ],
   "source": [
    "Stop_Words = stopwords.words('english')\n",
    "#print(Stop_Words)\n",
    "New_Stop_Words = pandas.read_csv('stopwords_research.csv')\n",
    "New_Stop_Words_2 = list(New_Stop_Words['Words'])\n",
    "#print(New_Stop_Words_2)\n",
    "Ultra_Stop_Words = Stop_Words + (New_Stop_Words_2)\n",
    "#for word in New_Stop_Words_2:\n",
    "#    print(word)\n",
    "#    Stop_Words = Stop_Words.append(word)\n",
    "print(Ultra_Stop_Words)"
   ]
  },
  {
   "cell_type": "code",
   "execution_count": 71,
   "metadata": {},
   "outputs": [
    {
     "name": "stdout",
     "output_type": "stream",
     "text": [
      "['this', 'paper', 'explores', 'a', 'proof', 'of', 'concept', 'self-centring', 'spinal', 'column', 'concept', 'experimentally', '.', 'the', 'idea', 'of', 'the', 'system', 'is', 'inspired', 'by', 'the', 'mechanical', 'interaction', 'of', 'the', 'vertebral', 'bones', 'and', 'intervertebral', 'discs', 'in', 'human', 'spine', '.', 'experimental', 'tests', 'are', 'undertaken', 'to', 'explore', 'whether', 'a', 'similar', 'bridge', 'pier', 'system', 'could', 'be', 'constructed', 'to', 'withstand', 'seismic', 'dynamic', 'loading', 'in', 'an', 'equally', 'efficient', 'manner', '.', 'the', 'experimentation', 'is', 'performed', 'on', 'tied', '(', 'pre-tensioned', ')', 'wooden', 'blocks', '(', 'vertebrae', ')', 'with', 'and', 'without', 'rubber', 'strips', 'between', 'the', 'vertebrae', 'acting', 'as', 'the', 'intervertebral', 'discs', '.', 'small-scale', 'test', 'specimens', 'are', 'excited', 'sinusoidally', 'using', 'a', 'small-scale', 'shake', 'table', ',', 'and', 'the', 'response', 'of', 'the', 'system', 'recorded', 'through', 'triaxial', 'accelerometers', 'attached', 'to', 'the', 'structure', '.', 'the', 'nonlinear', 'dynamic', 'response', 'and', 'mechanics', 'of', 'the', 'system', 'are', 'then', 'investigated', 'under', 'sinusoidal', 'dynamic', 'excitation', '.', 'it', 'is', 'found', 'that', 'the', 'integration', 'of', 'intervertebral', 'rubber', 'discs', 'into', 'wooden', 'vertebrae', 'reduces', 'the', 'nonlinearity', 'of', 'the', 'system', ',', 'and', 'increases', 'the', 'flexibility', 'and', 'damping', '.', 'the', 'experimental', 'results', 'show', 'that', 'the', 'proposed', 'system', 'can', 'sustain', 'large', 'lateral', 'displacement', 'without', 'any', 'residual', 'deformation', 'after', 'the', 'excitation', '.', '©', '2018', 'the', 'authors']\n"
     ]
    }
   ],
   "source": [
    "Articles = pandas.read_csv('articles.csv')\n",
    "Abstracts = Articles['Abstract']\n",
    "#Abstracts.head()\n",
    "Line = Abstracts[0]\n",
    "line = Line.lower()\n",
    "Token_line = word_tokenize(line)\n",
    "print(Token_line)"
   ]
  },
  {
   "cell_type": "code",
   "execution_count": 72,
   "metadata": {},
   "outputs": [
    {
     "name": "stdout",
     "output_type": "stream",
     "text": [
      "explores proof concept self-centring spinal column concept experimentally . system inspired mechanical interaction vertebral bones intervertebral discs human spine . experimental tests undertaken explore whether similar bridge pier system could constructed withstand seismic dynamic loading equally efficient manner . experimentation performed tied ( pre-tensioned ) wooden blocks ( vertebrae ) without rubber strips vertebrae acting intervertebral discs . small-scale specimens excited sinusoidally using small-scale shake table , response system recorded triaxial accelerometers attached structure . nonlinear dynamic response mechanics system investigated sinusoidal dynamic excitation . integration intervertebral rubber discs wooden vertebrae reduces nonlinearity system , increases flexibility damping . experimental results proposed system large lateral displacement without residual deformation excitation . © 2018 authors\n"
     ]
    }
   ],
   "source": [
    "words = Token_line\n",
    "\n",
    "New_Line = []\n",
    "for word in words:\n",
    "    if word not in Ultra_Stop_Words:\n",
    "        New_Line.append(word)\n",
    "\n",
    "print(\" \".join(New_Line))"
   ]
  }
 ],
 "metadata": {
  "kernelspec": {
   "display_name": "Python 3",
   "language": "python",
   "name": "python3"
  },
  "language_info": {
   "codemirror_mode": {
    "name": "ipython",
    "version": 3
   },
   "file_extension": ".py",
   "mimetype": "text/x-python",
   "name": "python",
   "nbconvert_exporter": "python",
   "pygments_lexer": "ipython3",
   "version": "3.7.0"
  }
 },
 "nbformat": 4,
 "nbformat_minor": 2
}
