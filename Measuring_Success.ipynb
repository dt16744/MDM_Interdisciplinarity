{
 "cells": [
  {
   "cell_type": "code",
   "execution_count": 3,
   "metadata": {},
   "outputs": [],
   "source": [
    "\"Importing useful modules\"\n",
    "import pandas\n",
    "import numpy as np\n",
    "import matplotlib.pyplot as plt"
   ]
  },
  {
   "cell_type": "code",
   "execution_count": 8,
   "metadata": {},
   "outputs": [],
   "source": [
    "#Articles = pandas.read_csv('articles.csv')\n",
    "Journals = pandas.read_csv('journals.csv', engine='python', skiprows=[0])"
   ]
  },
  {
   "cell_type": "code",
   "execution_count": 57,
   "metadata": {
    "scrolled": true
   },
   "outputs": [],
   "source": [
    "\"Making a list of all unique journal names and their ISSN numbers from the journals.csv file\"\n",
    "Journal_Name = Journals[\"Title\"]\n",
    "ISSN = Journals[\"Print-ISSN\"]\n",
    "Rank = Journals[\"RANK\"]\n",
    "Rank_out_of = Journals[\"Rank Out Of\"]\n",
    "\n",
    "length = 15\n",
    "Journal_List = [Journal_Name[0]]\n",
    "ISSN_List = [ISSN[0]]\n",
    "Av_Rank = []\n",
    "\n"
   ]
  },
  {
   "cell_type": "code",
   "execution_count": 60,
   "metadata": {},
   "outputs": [],
   "source": [
    "i = 0\n",
    "\"Find a way to make the average rank for the journal being the average rank out of/rank when you have more brainspace\"\n",
    "\n",
    "for name in Journal_Name[0:length]:\n",
    "    if name == Journal_List[-1]:\n",
    "        continue\n",
    "        count += 1\n",
    "    else:\n",
    "        Journal_List.append(name)\n",
    "        ISSN_List.append(ISSN[i]) \n",
    "    i += 1\n",
    "    "
   ]
  },
  {
   "cell_type": "code",
   "execution_count": null,
   "metadata": {},
   "outputs": [],
   "source": []
  }
 ],
 "metadata": {
  "kernelspec": {
   "display_name": "Python 3",
   "language": "python",
   "name": "python3"
  },
  "language_info": {
   "codemirror_mode": {
    "name": "ipython",
    "version": 3
   },
   "file_extension": ".py",
   "mimetype": "text/x-python",
   "name": "python",
   "nbconvert_exporter": "python",
   "pygments_lexer": "ipython3",
   "version": "3.6.2"
  }
 },
 "nbformat": 4,
 "nbformat_minor": 2
}
